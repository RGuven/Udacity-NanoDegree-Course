{
 "cells": [
  {
   "cell_type": "markdown",
   "metadata": {},
   "source": [
    "# Fashion Dataset Classification with Pytorch"
   ]
  },
  {
   "cell_type": "code",
   "execution_count": 18,
   "metadata": {},
   "outputs": [
    {
     "name": "stdout",
     "output_type": "stream",
     "text": [
      "Train data, number of images:  60000\n",
      "Test data, number of images:  10000\n"
     ]
    }
   ],
   "source": [
    "import torch\n",
    "import torchvision\n",
    "\n",
    "# data loading and transforming\n",
    "from torchvision.datasets import FashionMNIST\n",
    "from torch.utils.data import DataLoader\n",
    "from torchvision import transforms\n",
    "import numpy as np\n",
    "from collections import OrderedDict\n",
    "\n",
    "# The output of torchvision datasets are PILImage images of range [0, 1]. \n",
    "# We transform them to Tensors for input into a CNN\n",
    "\n",
    "## Define a transform to read the data in as a tensor\n",
    "data_transform = transforms.ToTensor()\n",
    "\n",
    "# choose the training and test datasets\n",
    "train_data = FashionMNIST(root='./data', train=True,\n",
    "                                   download=True, transform=data_transform)\n",
    "\n",
    "test_data = FashionMNIST(root='./data', train=False,\n",
    "                                  download=True, transform=data_transform)\n",
    "\n",
    "\n",
    "# Print out some stats about the training and test data\n",
    "print('Train data, number of images: ', len(train_data))\n",
    "print('Test data, number of images: ', len(test_data))"
   ]
  },
  {
   "cell_type": "code",
   "execution_count": 3,
   "metadata": {},
   "outputs": [],
   "source": [
    "batch_size = 10\n",
    "\n",
    "train_loader = DataLoader(train_data, batch_size=batch_size, shuffle=True)\n",
    "test_loader = DataLoader(test_data, batch_size=batch_size, shuffle=True)\n",
    "\n",
    "# specify the image classes\n",
    "classes = ['T-shirt/top', 'Trouser', 'Pullover', 'Dress', 'Coat', \n",
    "           'Sandal', 'Shirt', 'Sneaker', 'Bag', 'Ankle boot']"
   ]
  },
  {
   "cell_type": "code",
   "execution_count": 11,
   "metadata": {},
   "outputs": [],
   "source": [
    "import torch.nn as nn\n",
    "import torch.nn.functional as F\n",
    "\n",
    "class Net(nn.Module):\n",
    "\n",
    "    def __init__(self):\n",
    "        super(Net, self).__init__()\n",
    "        self.layer1 = nn.Sequential(\n",
    "            OrderedDict([\n",
    "            ('conv1', nn.Conv2d(1, 10, kernel_size=3)),\n",
    "            ('relu1',nn.ReLU()),\n",
    "            ('bachnorm1', nn.BatchNorm2d(10))]))\n",
    "        \n",
    "        self.layer2 = nn.Sequential(OrderedDict([\n",
    "            ('maxp1', nn.MaxPool2d(2,2))]))\n",
    "        \n",
    "        self.layer3 = nn.Sequential(OrderedDict([\n",
    "            ('conv2', nn.Conv2d(10, 20, kernel_size=3)),\n",
    "            ('relu2', nn.ReLU())]))\n",
    "        \n",
    "        self.layer4 = nn.Sequential(OrderedDict([\n",
    "            ('fc1', nn.Linear(11*11*20,200 )),\n",
    "            ('relu3', nn.ReLU()),\n",
    "            ('dropout4',  nn.Dropout(0.4))]))\n",
    "        \n",
    "        self.layer5 = nn.Sequential(OrderedDict([\n",
    "            ('fc2', nn.Linear(200, 100)),\n",
    "            ('relu4', nn.ReLU()),\n",
    "            ('dropout5',  nn.Dropout(0.4))]))\n",
    "        \n",
    "        self.layer6 = nn.Sequential(OrderedDict([\n",
    "            ('fc3', nn.Linear(100, 10)),\n",
    "            ('relu5', nn.ReLU())]))\n",
    "        \n",
    "        \n",
    "    ## define the feedforward behavior\n",
    "    def forward(self, x):\n",
    "        out = self.layer1(x)\n",
    "        out = self.layer2(out)\n",
    "        out = self.layer3(out)\n",
    "        out = out.view(out.size(0), -1)\n",
    "        out = self.layer4(out)\n",
    "        out = self.layer5(out)\n",
    "        out = self.layer6(out)\n",
    "        # final output\n",
    "        return F.log_softmax(out, dim=1)\n"
   ]
  },
  {
   "cell_type": "code",
   "execution_count": 12,
   "metadata": {},
   "outputs": [
    {
     "name": "stdout",
     "output_type": "stream",
     "text": [
      "Net(\n",
      "  (layer1): Sequential(\n",
      "    (conv1): Conv2d(1, 10, kernel_size=(3, 3), stride=(1, 1))\n",
      "    (relu1): ReLU()\n",
      "    (bachnorm1): BatchNorm2d(10, eps=1e-05, momentum=0.1, affine=True, track_running_stats=True)\n",
      "  )\n",
      "  (layer2): Sequential(\n",
      "    (maxp1): MaxPool2d(kernel_size=2, stride=2, padding=0, dilation=1, ceil_mode=False)\n",
      "  )\n",
      "  (layer3): Sequential(\n",
      "    (conv2): Conv2d(10, 20, kernel_size=(3, 3), stride=(1, 1))\n",
      "    (relu2): ReLU()\n",
      "  )\n",
      "  (layer4): Sequential(\n",
      "    (fc1): Linear(in_features=2420, out_features=200, bias=True)\n",
      "    (relu3): ReLU()\n",
      "    (dropout4): Dropout(p=0.4, inplace=False)\n",
      "  )\n",
      "  (layer5): Sequential(\n",
      "    (fc2): Linear(in_features=200, out_features=100, bias=True)\n",
      "    (relu4): ReLU()\n",
      "    (dropout5): Dropout(p=0.4, inplace=False)\n",
      "  )\n",
      "  (layer6): Sequential(\n",
      "    (fc3): Linear(in_features=100, out_features=10, bias=True)\n",
      "    (relu5): ReLU()\n",
      "  )\n",
      ")\n"
     ]
    }
   ],
   "source": [
    "net = Net()\n",
    "print(net)"
   ]
  },
  {
   "cell_type": "markdown",
   "metadata": {},
   "source": [
    "# The loss function and optimizer"
   ]
  },
  {
   "cell_type": "code",
   "execution_count": 13,
   "metadata": {},
   "outputs": [],
   "source": [
    "import torch.optim as optim\n",
    "\n",
    "## specify loss function (try categorical cross-entropy)\n",
    "criterion = nn.NLLLoss()\n",
    "\n",
    "## specify optimizer \n",
    "optimizer = optim.Adam(net.parameters())"
   ]
  },
  {
   "cell_type": "code",
   "execution_count": 14,
   "metadata": {},
   "outputs": [
    {
     "name": "stdout",
     "output_type": "stream",
     "text": [
      "Accuracy before training:  10.09\n"
     ]
    }
   ],
   "source": [
    "# Calculate accuracy before training\n",
    "correct = 0\n",
    "total = 0\n",
    "\n",
    "# Iterate through test dataset\n",
    "for images, labels in test_loader:\n",
    "\n",
    "    # forward pass to get outputs\n",
    "    # the outputs are a series of class scores\n",
    "    outputs = net(images)\n",
    "    \n",
    "    # get the predicted class from the maximum value in the output-list of class scores\n",
    "    _, predicted = torch.max(outputs.data, 1)\n",
    "\n",
    "    # count up total number of correct labels\n",
    "    # for which the predicted and true labels are equal\n",
    "    total += labels.size(0)\n",
    "    correct += (predicted == labels).sum()\n",
    "\n",
    "# calculate the accuracy\n",
    "accuracy = 100 * correct.item() / total\n",
    "\n",
    "# print it out!\n",
    "print('Accuracy before training: ', accuracy)"
   ]
  },
  {
   "cell_type": "markdown",
   "metadata": {},
   "source": [
    "# Train Network"
   ]
  },
  {
   "cell_type": "raw",
   "metadata": {},
   "source": [
    "1-) Zero's the gradients to prepare for a forward pass \n",
    "2-) Passes the input through the network (forward pass)\n",
    "3-) Computes the loss (how far is the predicted classes are from the correct labels)\n",
    "4-) Propagates gradients back into the network’s parameters (backward pass)\n",
    "5-) Updates the weights (parameter update)\n",
    "6-) Prints out the calculated loss"
   ]
  },
  {
   "cell_type": "code",
   "execution_count": 15,
   "metadata": {},
   "outputs": [],
   "source": [
    "def train(n_epochs):\n",
    "    \n",
    "    for epoch in range(n_epochs):  # loop over the dataset multiple times\n",
    "\n",
    "        running_loss = 0.0\n",
    "        for batch_i, data in enumerate(train_loader):\n",
    "            # get the input images and their corresponding labels\n",
    "            inputs, labels = data       \n",
    "\n",
    "            # zero the parameter (weight) gradients\n",
    "            optimizer.zero_grad()\n",
    "\n",
    "            # forward pass to get outputs\n",
    "            outputs = net(inputs)\n",
    "\n",
    "            # calculate the loss\n",
    "            loss = criterion(outputs, labels)\n",
    "\n",
    "            # backward pass to calculate the parameter gradients\n",
    "            loss.backward()\n",
    "\n",
    "            # update the parameters\n",
    "            optimizer.step()\n",
    "\n",
    "            # print loss statistics\n",
    "            # to convert loss into a scalar and add it to running_loss, we use .item()\n",
    "            running_loss += loss.item()\n",
    "            if batch_i % 1000 == 999:    # print every 1000 mini-batches\n",
    "                print('Epoch: {}, Batch: {}, Avg. Loss: {}'.format(epoch + 1, batch_i+1, running_loss/1000))\n",
    "                running_loss = 0.0\n",
    "\n",
    "    print('Finished Training')"
   ]
  },
  {
   "cell_type": "code",
   "execution_count": 16,
   "metadata": {},
   "outputs": [
    {
     "name": "stdout",
     "output_type": "stream",
     "text": [
      "Epoch: 1, Batch: 1000, Avg. Loss: 0.9169666106775403\n",
      "Epoch: 1, Batch: 2000, Avg. Loss: 0.5487106555188075\n",
      "Epoch: 1, Batch: 3000, Avg. Loss: 0.47887165908142926\n",
      "Epoch: 1, Batch: 4000, Avg. Loss: 0.4554180236402899\n",
      "Epoch: 1, Batch: 5000, Avg. Loss: 0.417382098400034\n",
      "Epoch: 1, Batch: 6000, Avg. Loss: 0.40262737217894756\n",
      "Epoch: 2, Batch: 1000, Avg. Loss: 0.3673447832204402\n",
      "Epoch: 2, Batch: 2000, Avg. Loss: 0.368607666965574\n",
      "Epoch: 2, Batch: 3000, Avg. Loss: 0.36683524277759716\n",
      "Epoch: 2, Batch: 4000, Avg. Loss: 0.3560056776916608\n",
      "Epoch: 2, Batch: 5000, Avg. Loss: 0.3520431543517625\n",
      "Epoch: 2, Batch: 6000, Avg. Loss: 0.34914667865925003\n",
      "Epoch: 3, Batch: 1000, Avg. Loss: 0.32618981748132503\n",
      "Epoch: 3, Batch: 2000, Avg. Loss: 0.3033134982198826\n",
      "Epoch: 3, Batch: 3000, Avg. Loss: 0.3257350771702477\n",
      "Epoch: 3, Batch: 4000, Avg. Loss: 0.3140824089666712\n",
      "Epoch: 3, Batch: 5000, Avg. Loss: 0.31614707340713355\n",
      "Epoch: 3, Batch: 6000, Avg. Loss: 0.3177464941459475\n",
      "Epoch: 4, Batch: 1000, Avg. Loss: 0.28379342632351473\n",
      "Epoch: 4, Batch: 2000, Avg. Loss: 0.297657858523773\n",
      "Epoch: 4, Batch: 3000, Avg. Loss: 0.29203091410326304\n",
      "Epoch: 4, Batch: 4000, Avg. Loss: 0.2875437239432358\n",
      "Epoch: 4, Batch: 5000, Avg. Loss: 0.29482160694894266\n",
      "Epoch: 4, Batch: 6000, Avg. Loss: 0.2955862886352115\n",
      "Epoch: 5, Batch: 1000, Avg. Loss: 0.2650443402940218\n",
      "Epoch: 5, Batch: 2000, Avg. Loss: 0.2776755171007826\n",
      "Epoch: 5, Batch: 3000, Avg. Loss: 0.2792156238197349\n",
      "Epoch: 5, Batch: 4000, Avg. Loss: 0.2851883984434608\n",
      "Epoch: 5, Batch: 5000, Avg. Loss: 0.26572650163035233\n",
      "Epoch: 5, Batch: 6000, Avg. Loss: 0.2716811774049836\n",
      "Epoch: 6, Batch: 1000, Avg. Loss: 0.2548893395815103\n",
      "Epoch: 6, Batch: 2000, Avg. Loss: 0.2507209530856981\n",
      "Epoch: 6, Batch: 3000, Avg. Loss: 0.24989213588133863\n",
      "Epoch: 6, Batch: 4000, Avg. Loss: 0.2557952233370015\n",
      "Epoch: 6, Batch: 5000, Avg. Loss: 0.25550024714009306\n",
      "Epoch: 6, Batch: 6000, Avg. Loss: 0.25724687877073305\n",
      "Epoch: 7, Batch: 1000, Avg. Loss: 0.2299124856698327\n",
      "Epoch: 7, Batch: 2000, Avg. Loss: 0.24264517873600927\n",
      "Epoch: 7, Batch: 3000, Avg. Loss: 0.23353808435014434\n",
      "Epoch: 7, Batch: 4000, Avg. Loss: 0.23453095170643065\n",
      "Epoch: 7, Batch: 5000, Avg. Loss: 0.24739224440342877\n",
      "Epoch: 7, Batch: 6000, Avg. Loss: 0.2427414886522456\n",
      "Epoch: 8, Batch: 1000, Avg. Loss: 0.21521643222671627\n",
      "Epoch: 8, Batch: 2000, Avg. Loss: 0.23555865921569238\n",
      "Epoch: 8, Batch: 3000, Avg. Loss: 0.2229606739050032\n",
      "Epoch: 8, Batch: 4000, Avg. Loss: 0.2290473248561284\n",
      "Epoch: 8, Batch: 5000, Avg. Loss: 0.23313194105202273\n",
      "Epoch: 8, Batch: 6000, Avg. Loss: 0.22630013877628516\n",
      "Epoch: 9, Batch: 1000, Avg. Loss: 0.20441243900508563\n",
      "Epoch: 9, Batch: 2000, Avg. Loss: 0.21862458042989602\n",
      "Epoch: 9, Batch: 3000, Avg. Loss: 0.21609808455546864\n",
      "Epoch: 9, Batch: 4000, Avg. Loss: 0.2196917167449501\n",
      "Epoch: 9, Batch: 5000, Avg. Loss: 0.20647383643498687\n",
      "Epoch: 9, Batch: 6000, Avg. Loss: 0.22317427580448565\n",
      "Epoch: 10, Batch: 1000, Avg. Loss: 0.19684711436001817\n",
      "Epoch: 10, Batch: 2000, Avg. Loss: 0.2021854261208984\n",
      "Epoch: 10, Batch: 3000, Avg. Loss: 0.20198631266312805\n",
      "Epoch: 10, Batch: 4000, Avg. Loss: 0.20946093049825867\n",
      "Epoch: 10, Batch: 5000, Avg. Loss: 0.21269806172653624\n",
      "Epoch: 10, Batch: 6000, Avg. Loss: 0.21816964629124413\n",
      "Epoch: 11, Batch: 1000, Avg. Loss: 0.18494353690407114\n",
      "Epoch: 11, Batch: 2000, Avg. Loss: 0.19184809004711678\n",
      "Epoch: 11, Batch: 3000, Avg. Loss: 0.1915653738809051\n",
      "Epoch: 11, Batch: 4000, Avg. Loss: 0.1944010674541614\n",
      "Epoch: 11, Batch: 5000, Avg. Loss: 0.20322499252362466\n",
      "Epoch: 11, Batch: 6000, Avg. Loss: 0.20766181681880186\n",
      "Epoch: 12, Batch: 1000, Avg. Loss: 0.18522694988286822\n",
      "Epoch: 12, Batch: 2000, Avg. Loss: 0.19306476042980647\n",
      "Epoch: 12, Batch: 3000, Avg. Loss: 0.1833222177938257\n",
      "Epoch: 12, Batch: 4000, Avg. Loss: 0.18690162454594975\n",
      "Epoch: 12, Batch: 5000, Avg. Loss: 0.190831702970856\n",
      "Epoch: 12, Batch: 6000, Avg. Loss: 0.19731783287056898\n",
      "Epoch: 13, Batch: 1000, Avg. Loss: 0.17508524816552937\n",
      "Epoch: 13, Batch: 2000, Avg. Loss: 0.17177451586800105\n",
      "Epoch: 13, Batch: 3000, Avg. Loss: 0.17768656049794299\n",
      "Epoch: 13, Batch: 4000, Avg. Loss: 0.18903113375903194\n",
      "Epoch: 13, Batch: 5000, Avg. Loss: 0.19129943547184258\n",
      "Epoch: 13, Batch: 6000, Avg. Loss: 0.1807315088801115\n",
      "Epoch: 14, Batch: 1000, Avg. Loss: 0.16352992081981682\n",
      "Epoch: 14, Batch: 2000, Avg. Loss: 0.17511047657821222\n",
      "Epoch: 14, Batch: 3000, Avg. Loss: 0.17671851703301944\n",
      "Epoch: 14, Batch: 4000, Avg. Loss: 0.17979940971727115\n",
      "Epoch: 14, Batch: 5000, Avg. Loss: 0.17245399772662132\n",
      "Epoch: 14, Batch: 6000, Avg. Loss: 0.18577413995925962\n",
      "Epoch: 15, Batch: 1000, Avg. Loss: 0.16287408620981841\n",
      "Epoch: 15, Batch: 2000, Avg. Loss: 0.16610572833426118\n",
      "Epoch: 15, Batch: 3000, Avg. Loss: 0.17524204870623702\n",
      "Epoch: 15, Batch: 4000, Avg. Loss: 0.17020328374964605\n",
      "Epoch: 15, Batch: 5000, Avg. Loss: 0.17994708768865075\n",
      "Epoch: 15, Batch: 6000, Avg. Loss: 0.16975938265011792\n",
      "Finished Training\n"
     ]
    }
   ],
   "source": [
    "n_epochs = 15 # start small to see if your model works, initially\n",
    "\n",
    "# call train\n",
    "train(n_epochs)"
   ]
  },
  {
   "cell_type": "markdown",
   "metadata": {},
   "source": [
    "# Test the Trained Network"
   ]
  },
  {
   "cell_type": "code",
   "execution_count": 19,
   "metadata": {},
   "outputs": [
    {
     "name": "stdout",
     "output_type": "stream",
     "text": [
      "Test Loss: 0.353904\n",
      "\n",
      "Test Accuracy of T-shirt/top: 85% (857/1000)\n",
      "Test Accuracy of Trouser: 97% (976/1000)\n",
      "Test Accuracy of Pullover: 83% (833/1000)\n",
      "Test Accuracy of Dress: 93% (930/1000)\n",
      "Test Accuracy of  Coat: 90% (908/1000)\n",
      "Test Accuracy of Sandal: 97% (972/1000)\n",
      "Test Accuracy of Shirt: 63% (634/1000)\n",
      "Test Accuracy of Sneaker: 98% (985/1000)\n",
      "Test Accuracy of   Bag: 97% (977/1000)\n",
      "Test Accuracy of Ankle boot: 94% (948/1000)\n",
      "\n",
      "Test Accuracy (Overall): 90% (9020/10000)\n"
     ]
    }
   ],
   "source": [
    "# initialize tensor and lists to monitor test loss and accuracy\n",
    "test_loss = torch.zeros(1)\n",
    "class_correct = list(0. for i in range(10))\n",
    "class_total = list(0. for i in range(10))\n",
    "\n",
    "# set the module to evaluation mode\n",
    "net.eval()\n",
    "\n",
    "for batch_i, data in enumerate(test_loader):\n",
    "    \n",
    "    # get the input images and their corresponding labels\n",
    "    inputs, labels = data\n",
    "    \n",
    "    # forward pass to get outputs\n",
    "    outputs = net(inputs)\n",
    "\n",
    "    # calculate the loss\n",
    "    loss = criterion(outputs, labels)\n",
    "            \n",
    "    # update average test loss \n",
    "    test_loss = test_loss + ((torch.ones(1) / (batch_i + 1)) * (loss.data - test_loss))\n",
    "    \n",
    "    # get the predicted class from the maximum value in the output-list of class scores\n",
    "    _, predicted = torch.max(outputs.data, 1)\n",
    "    \n",
    "    # compare predictions to true label\n",
    "    correct = np.squeeze(predicted.eq(labels.data.view_as(predicted)))\n",
    "    \n",
    "    # calculate test accuracy for *each* object class\n",
    "    # we get the scalar value of correct items for a class, by calling `correct[i].item()`\n",
    "    for i in range(batch_size):\n",
    "        label = labels.data[i]\n",
    "        class_correct[label] += correct[i].item()\n",
    "        class_total[label] += 1\n",
    "\n",
    "print('Test Loss: {:.6f}\\n'.format(test_loss.numpy()[0]))\n",
    "\n",
    "for i in range(10):\n",
    "    if class_total[i] > 0:\n",
    "        print('Test Accuracy of %5s: %2d%% (%2d/%2d)' % (\n",
    "            classes[i], 100 * class_correct[i] / class_total[i],\n",
    "            np.sum(class_correct[i]), np.sum(class_total[i])))\n",
    "    else:\n",
    "        print('Test Accuracy of %5s: N/A (no training examples)' % (classes[i]))\n",
    "\n",
    "        \n",
    "print('\\nTest Accuracy (Overall): %2d%% (%2d/%2d)' % (\n",
    "    100. * np.sum(class_correct) / np.sum(class_total),\n",
    "    np.sum(class_correct), np.sum(class_total)))"
   ]
  },
  {
   "cell_type": "markdown",
   "metadata": {},
   "source": [
    " # Visualize sample test results"
   ]
  },
  {
   "cell_type": "code",
   "execution_count": 21,
   "metadata": {},
   "outputs": [
    {
     "data": {
      "image/png": "[encoded data removed]",
      "text/plain": [
       "<Figure size 1800x288 with 10 Axes>"
      ]
     },
     "metadata": {},
     "output_type": "display_data"
    }
   ],
   "source": [
    "import matplotlib.pyplot as plt\n",
    "# obtain one batch of test images\n",
    "dataiter = iter(test_loader)\n",
    "images, labels = dataiter.next()\n",
    "# get predictions\n",
    "preds = np.squeeze(net(images).data.max(1, keepdim=True)[1].numpy())\n",
    "images = images.numpy()\n",
    "\n",
    "# plot the images in the batch, along with predicted and true labels\n",
    "fig = plt.figure(figsize=(25, 4))\n",
    "for idx in np.arange(batch_size):\n",
    "    ax = fig.add_subplot(2, batch_size/2, idx+1, xticks=[], yticks=[])\n",
    "    ax.imshow(np.squeeze(images[idx]), cmap='gray')\n",
    "    ax.set_title(\"{} ({})\".format(classes[preds[idx]], classes[labels[idx]]),\n",
    "                 color=(\"green\" if preds[idx]==labels[idx] else \"red\"))"
   ]
  },
  {
   "cell_type": "markdown",
   "metadata": {},
   "source": [
    "# Save Your Best Model"
   ]
  },
  {
   "cell_type": "code",
   "execution_count": 23,
   "metadata": {},
   "outputs": [],
   "source": [
    "model_dir = 'saved_models/'\n",
    "model_name = 'model_15_epoch.pt'\n",
    "\n",
    "# after training, save your model parameters in the dir 'saved_models'\n",
    "# when you're ready, un-comment the line below\n",
    "torch.save(net.state_dict(), model_dir+model_name)"
   ]
  },
  {
   "cell_type": "markdown",
   "metadata": {},
   "source": [
    "# Load a Trained, Saved Model\n"
   ]
  },
  {
   "cell_type": "code",
   "execution_count": 24,
   "metadata": {},
   "outputs": [],
   "source": [
    "## It will be good aproach if you want to load and detect that new .py file built from strach with net = Net() .\n",
    "net.load_state_dict(torch.load('saved_models/model_15_epoch.pt'))"
   ]
  },
  {
   "cell_type": "code",
   "execution_count": null,
   "metadata": {},
   "outputs": [],
   "source": []
  }
 ],
 "metadata": {
  "kernelspec": {
   "display_name": "Python 3",
   "language": "python",
   "name": "python3"
  },
  "language_info": {
   "codemirror_mode": {
    "name": "ipython",
    "version": 3
   },
   "file_extension": ".py",
   "mimetype": "text/x-python",
   "name": "python",
   "nbconvert_exporter": "python",
   "pygments_lexer": "ipython3",
   "version": "3.6.6"
  }
 },
 "nbformat": 4,
 "nbformat_minor": 4
}
